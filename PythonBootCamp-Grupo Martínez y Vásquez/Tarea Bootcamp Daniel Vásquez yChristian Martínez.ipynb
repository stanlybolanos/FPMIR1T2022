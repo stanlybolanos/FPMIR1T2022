{
 "cells": [
  {
   "cell_type": "markdown",
   "metadata": {},
   "source": [
    "Tarea segunda semana de Marzo, Christian Martínez y Daniel Vásquez "
   ]
  },
  {
   "cell_type": "markdown",
   "metadata": {},
   "source": [
    "Track Condiciones Python Ejercicio 1"
   ]
  },
  {
   "cell_type": "code",
   "execution_count": 1,
   "metadata": {},
   "outputs": [
    {
     "name": "stdout",
     "output_type": "stream",
     "text": [
      " El caracter de entrada  es una consonante\n"
     ]
    }
   ],
   "source": [
    "Entreada = input(\"ingrese un caracter para saber si es vocal o consonante:\")\n",
    "\n",
    "if (Entreada == \"a\") or (Entreada == \"e\") or (Entreada == \"i\")or (Entreada == \"o\") or (Entreada == \"u\") or (Entreada == \"A\")or (Entreada == \"E\")or (Entreada == \"I\")or (Entreada == \"O\")or (Entreada == \"U\"):\n",
    "    print(\"El caracter de entrada:\",  Entreada, \"Es una vocal\")\n",
    "else:\n",
    "    print(\" El caracter de entrada\",  Entreada, \"es una consonante\")\n"
   ]
  },
  {
   "cell_type": "markdown",
   "metadata": {},
   "source": [
    "Track Condiciones Python Ejercicio 2"
   ]
  },
  {
   "cell_type": "code",
   "execution_count": 6,
   "metadata": {},
   "outputs": [
    {
     "name": "stdout",
     "output_type": "stream",
     "text": [
      "su triangulo es un triangulo isoceles\n"
     ]
    }
   ],
   "source": [
    "NumA= int(input(\"ingrese el lado A del triangulo\"))\n",
    "NumB= int(input(\"ingrese el lado B del triangulo\"))\n",
    "NumC = int(input(\"ingrese el lado C del triangulo\"))\n",
    "\n",
    "if (NumA == NumB) and (NumB == NumC) and (NumC == NumA):\n",
    "    print(\"Su triangulo es un triangulo Equilatero\")\n",
    "elif (NumA != NumB) and (NumB != NumC) and (NumC != NumA):\n",
    "    print(\"su triangulo es un triangulo escaleno\")\n",
    "else:\n",
    "    print(\"su triangulo es un triangulo isoceles\")"
   ]
  },
  {
   "cell_type": "markdown",
   "metadata": {},
   "source": [
    "Track Condiciones Python Ejercicio 3"
   ]
  },
  {
   "cell_type": "code",
   "execution_count": null,
   "metadata": {},
   "outputs": [],
   "source": [
    "NotaAlumno= float(input(\"Que nota saco el alumno\"))\n",
    "\n",
    "if (NotaAlumno >= 65):\n",
    "    print(\"El estudiante aprobó con una nota de:\", str(NotaAlumno))\n",
    "else:\n",
    "    print(\"El estudiante reprobó con una nota de: \", str(NotaAlumno))\n"
   ]
  },
  {
   "cell_type": "markdown",
   "metadata": {},
   "source": [
    "Track condiciones Python ejercicio 4"
   ]
  },
  {
   "cell_type": "code",
   "execution_count": 12,
   "metadata": {},
   "outputs": [
    {
     "name": "stdout",
     "output_type": "stream",
     "text": [
      "El mes número: 12 es: Diciembre\n"
     ]
    }
   ],
   "source": [
    "Num1=input(\"ingrese numero de dia de la semana:\")\n",
    "MesesDelAño={\n",
    "    \"1\":\"Enero\",\n",
    "    \"2\":\"Febrero\",\n",
    "    \"3\":\"Marzo\",\n",
    "    \"4\":\"Abril\",\n",
    "    \"5\":\"Mayo\",\n",
    "    \"6\":\"Junio\",\n",
    "    \"7\":\"Julio\",\n",
    "    \"8\":\"Agosto\",\n",
    "    \"9\":\"Septiembre\",\n",
    "    \"10\":\"Octubre\",\n",
    "    \"11\":\"Noviembre\",\n",
    "    \"12\":\"Diciembre\"\n",
    "}\n",
    "print(\"El mes número:\",Num1,\"es:\",MesesDelAño.get(Num1,\"El número no corresponde a un mes valido\"))"
   ]
  },
  {
   "cell_type": "markdown",
   "metadata": {},
   "source": [
    "Track condiciones Python Ejercicio 5"
   ]
  },
  {
   "cell_type": "code",
   "execution_count": null,
   "metadata": {},
   "outputs": [],
   "source": [
    "AñoIngresado = int(input(\"ingrese el año a verificar\"))\n",
    "\n",
    "if (AñoIngresado%4 == 0):\n",
    "    print(\"el año: \", AñoIngresado, \"es un año bisiesto\")\n",
    "else:\n",
    "    print(\"el año: \", AñoIngresado, \" no es un año bisiesto\")"
   ]
  },
  {
   "cell_type": "markdown",
   "metadata": {},
   "source": [
    "Track Ciclos Python Ejercicio 1 "
   ]
  },
  {
   "cell_type": "code",
   "execution_count": null,
   "metadata": {},
   "outputs": [],
   "source": [
    "Num1=int(input(\"Escriba un numero:\"))\n",
    "for i in range(1,Num1+1):\n",
    "    for y in range(i,Num1+1):\n",
    "        print((Num1+1-y), end=\" \")\n",
    "    print(\"\")"
   ]
  },
  {
   "cell_type": "markdown",
   "metadata": {},
   "source": [
    "Track Ciclos Python Ejercicio 2 "
   ]
  },
  {
   "cell_type": "code",
   "execution_count": 35,
   "metadata": {},
   "outputs": [
    {
     "name": "stdout",
     "output_type": "stream",
     "text": [
      "El inverso del número ingresado es:  432432432\n"
     ]
    }
   ],
   "source": [
    "numero_ingresado = (input(\"Ingrese un número: \"))\n",
    "revertir = 0\n",
    "try:\n",
    "    valor = int(numero_ingresado)\n",
    "    while valor > 0:\n",
    "        residuo = valor % 10\n",
    "        revertir = (revertir * 10) + residuo\n",
    "        valor //= 10\n",
    "    print('El inverso del número ingresado es: ', revertir)\n",
    "except ValueError:\n",
    "    print(\"Ese número no es valido. Inténtalo de nevo !\")"
   ]
  },
  {
   "cell_type": "markdown",
   "metadata": {},
   "source": [
    "Track Ciclos Python Ejercicio 3"
   ]
  },
  {
   "cell_type": "code",
   "execution_count": null,
   "metadata": {},
   "outputs": [],
   "source": [
    "Numero1=int(input(\"Ingrese un numero\"))\n",
    "Sumandos=3\n",
    "ResultadoSuma=0\n",
    "for i in range (1, Numero1+1):\n",
    "    if i==Numero1:\n",
    "        print(Sumandos, end=\" \")\n",
    "    else:\n",
    "        print(Sumandos, end=\"+\")\n",
    "    ResultadoSuma=int(ResultadoSuma)+int(Sumandos)\n",
    "    Sumandos=str(Sumandos)+str(3)\n",
    "\n",
    "print(\" \")\n",
    "print(ResultadoSuma)"
   ]
  },
  {
   "cell_type": "markdown",
   "metadata": {},
   "source": [
    "Track Ciclos Python Ejercicio 4"
   ]
  },
  {
   "cell_type": "code",
   "execution_count": null,
   "metadata": {},
   "outputs": [],
   "source": [
    "Num1=int(5)\n",
    "for i in range(1,Num1+1):\n",
    "    for y in range(1,i+1):\n",
    "        print(\"*\", end=\" \")\n",
    "    print(\"\")\n",
    "Num2 = int(4)\n",
    "for i in range(1,Num2+1):\n",
    "    for y in range(i,Num2+1):\n",
    "        print((\"*\"), end=\" \")\n",
    "    print(\"\")"
   ]
  },
  {
   "cell_type": "markdown",
   "metadata": {},
   "source": [
    "Track Ciclos Python Ejercicio 5"
   ]
  },
  {
   "cell_type": "code",
   "execution_count": null,
   "metadata": {},
   "outputs": [],
   "source": [
    "ListaNumeros={\n",
    "    \"1\":\"10\",\n",
    "    \"2\":\"20\",\n",
    "    \"3\":\"30\",\n",
    "    \"4\":\"40\",\n",
    "    \"5\":\"50\",\n",
    "    \"6\":\"60\",\n",
    "    \"7\":\"70\",\n",
    "    \"8\":\"80\",\n",
    "    \"9\":\"90\",\n",
    "    \"10\":\"100\",\n",
    "}\n",
    "Cadenapar=str(\"\")\n",
    "Cadenaimpar=str(\"\")\n",
    "for i in range(1, 11):\n",
    "    if (i%2)==0:\n",
    "        if (i==10):\n",
    "            Cadenapar=Cadenapar+(ListaNumeros.get(str(i),\"No pertenece a la lista\"))\n",
    "        else:\n",
    "            Cadenapar=Cadenapar+(ListaNumeros.get(str(i),\"No pertenece a la lista\"))+\",\"\n",
    "    else:\n",
    "        if (i==9):\n",
    "            Cadenaimpar=Cadenaimpar+(ListaNumeros.get(str(i),\"No pertenece a la lista\"))\n",
    "        else:\n",
    "            Cadenaimpar=Cadenaimpar+(ListaNumeros.get(str(i),\"No pertenece a la lista\"))+\",\"\n",
    "\n",
    "print(Cadenapar)\n",
    "print(Cadenaimpar)"
   ]
  },
  {
   "cell_type": "markdown",
   "metadata": {},
   "source": [
    "Track Ciclos python Ejercicio 6"
   ]
  },
  {
   "cell_type": "code",
   "execution_count": 7,
   "metadata": {},
   "outputs": [
    {
     "name": "stdout",
     "output_type": "stream",
     "text": [
      "aloh\n"
     ]
    }
   ],
   "source": [
    "\n",
    "\n",
    "def inversa():\n",
    "  string=input(\"escribe una frase o palabra: \")\n",
    "  cadenaInvertida = string [:: - 1 ]\n",
    "  print( cadenaInvertida )\n",
    "inversa()"
   ]
  },
  {
   "cell_type": "markdown",
   "metadata": {},
   "source": [
    "Track Problemas Python Ejercicio 1"
   ]
  },
  {
   "cell_type": "code",
   "execution_count": 72,
   "metadata": {},
   "outputs": [
    {
     "name": "stdout",
     "output_type": "stream",
     "text": [
      "el día de hoy es  2022-03-09 en la hora  23\n",
      "se abrio la pagina de Github exitosamente\n",
      "el texto ha sido guardado exitosamente en la dirección indicada\n"
     ]
    }
   ],
   "source": [
    "\n",
    "Opcion = int(input(\"Menu Principal: \\n Opcion 1, Día y hora actual \\n Opcion 2, Abrir sitio web github en navegador \\n Opcion 3, Guardar archivo txt en carpeta seleccionada \\n Opcion 4 Salir del programa \", ))\n",
    "while Opcion != 4:\n",
    "\n",
    "    if (Opcion == 2 ):\n",
    "        import webbrowser\n",
    "        GitHub = (\"www.github.com\")\n",
    "        webbrowser.open_new_tab(\"www.github.com\")\n",
    "        print(\"se abrio la pagina de Github exitosamente\")\n",
    "    if (Opcion == 1):\n",
    "        from datetime import datetime\n",
    "        Dia = datetime.today\n",
    "        print(\"el día de hoy es \", datetime.today().strftime(\"%Y-%m-%d\"), \"en la hora \", datetime.now().hour)\n",
    "    if (Opcion == 4):\n",
    "        exit\n",
    "    if (Opcion == 3):\n",
    "        import os\n",
    "        Pathfile = input(\"Ingrese el path del archivo\")\n",
    "        file = open( Pathfile + \"/Archivo.txt\", \"w\")\n",
    "        Texto = input(\"ingrese el texto que desea exportar como archivo .txt\")\n",
    "        file.write(str(Texto))\n",
    "        file.close()\n",
    "        print(\"el texto ha sido guardado exitosamente en la dirección indicada\")\n",
    "   \n",
    "    Opcion = int(input(\"Menu Principal: \\n Opcion 1, Día y hora actual \\n Opcion 2, Abrir sitio web github en navegador \\n Guardar archivo txt en carpeta seleccionada \\n Salir del programa \", ))\n",
    "\n",
    "\n",
    "    "
   ]
  }
 ],
 "metadata": {
  "interpreter": {
   "hash": "904d1d4a01097468018edab83f5c3bd6bbe80efa25cdc57554bb7bd29e58a577"
  },
  "kernelspec": {
   "display_name": "Python 3.10.2 64-bit (windows store)",
   "language": "python",
   "name": "python3"
  },
  "language_info": {
   "codemirror_mode": {
    "name": "ipython",
    "version": 3
   },
   "file_extension": ".py",
   "mimetype": "text/x-python",
   "name": "python",
   "nbconvert_exporter": "python",
   "pygments_lexer": "ipython3",
   "version": "3.10.2"
  },
  "orig_nbformat": 4
 },
 "nbformat": 4,
 "nbformat_minor": 2
}
