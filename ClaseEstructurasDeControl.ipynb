{
 "cells": [
  {
   "cell_type": "markdown",
   "metadata": {},
   "source": [
    "# Operadores"
   ]
  },
  {
   "cell_type": "markdown",
   "metadata": {},
   "source": [
    "### Operadores Relacionales"
   ]
  },
  {
   "cell_type": "code",
   "execution_count": 3,
   "metadata": {},
   "outputs": [
    {
     "name": "stdout",
     "output_type": "stream",
     "text": [
      "6 Es mayor a 5\n"
     ]
    }
   ],
   "source": [
    "Num1=int(input(\"Ingrese el primer numero\"))\n",
    "Num2=int(input(\"Ingrese un segundo numero\"))\n",
    "if Num1==Num2:\n",
    "    print (\"Los numeros ingresados son iguales\")\n",
    "if Num1>Num2:\n",
    "    print(Num1,\"Es mayor a\",Num2)\n",
    "if Num2>Num1:\n",
    "    print(Num2,\"Es mayor a\",Num1)"
   ]
  },
  {
   "cell_type": "markdown",
   "metadata": {},
   "source": [
    "##Ejercicio 2"
   ]
  },
  {
   "cell_type": "code",
   "execution_count": 4,
   "metadata": {},
   "outputs": [
    {
     "name": "stdout",
     "output_type": "stream",
     "text": [
      "Tiene al menos un numero pao\n"
     ]
    }
   ],
   "source": [
    "Numero1=int(input(\"Ingrese el primer numero\"))\n",
    "Numero2=int(input(\"Ingrese el segundo numero\"))\n",
    "if (Num1%2)==0 and (Num2%2)==0:\n",
    "    print(\"Ambos numeros son pares\")\n",
    "\n",
    "if (Num1%2)!=0 or (Num2)==0:\n",
    "    print(\"Tiene al menos un numero par\")"
   ]
  },
  {
   "cell_type": "code",
   "execution_count": null,
   "metadata": {},
   "outputs": [],
   "source": []
  },
  {
   "cell_type": "code",
   "execution_count": null,
   "metadata": {},
   "outputs": [],
   "source": []
  },
  {
   "cell_type": "markdown",
   "metadata": {},
   "source": []
  }
 ],
 "metadata": {
  "interpreter": {
   "hash": "63fd5069d213b44bf678585dea6b12cceca9941eaf7f819626cde1f2670de90d"
  },
  "kernelspec": {
   "display_name": "Python 3.9.5 64-bit",
   "language": "python",
   "name": "python3"
  },
  "language_info": {
   "codemirror_mode": {
    "name": "ipython",
    "version": 3
   },
   "file_extension": ".py",
   "mimetype": "text/x-python",
   "name": "python",
   "nbconvert_exporter": "python",
   "pygments_lexer": "ipython3",
   "version": "3.9.5"
  },
  "orig_nbformat": 4
 },
 "nbformat": 4,
 "nbformat_minor": 2
}
